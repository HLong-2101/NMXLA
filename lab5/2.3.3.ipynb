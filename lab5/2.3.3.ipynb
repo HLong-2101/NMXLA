{
 "cells": [
  {
   "cell_type": "code",
   "execution_count": 1,
   "id": "eb532e71",
   "metadata": {},
   "outputs": [],
   "source": [
    "import cv2\n",
    "from PIL import Image\n",
    "import numpy as np\n",
    "import imageio.v2 as iio\n",
    "import scipy.ndimage as nd\n",
    "from scipy.ndimage import label\n",
    "import matplotlib.pylab as plt\n",
    "from skimage.filters import threshold_local"
   ]
  },
  {
   "cell_type": "code",
   "execution_count": 4,
   "id": "c91d96e7",
   "metadata": {},
   "outputs": [
    {
     "data": {
      "image/png": "[encoded data removed]",
      "text/plain": [
       "<Figure size 640x480 with 1 Axes>"
      ]
     },
     "metadata": {},
     "output_type": "display_data"
    }
   ],
   "source": [
    "data = Image.open('giphy.gif').convert('L')\n",
    "a = [[0, 1, 0],[1, 1, 1],[0, 1, 0]]\n",
    "b = nd.binary_erosion(data, structure=a,iterations=50)\n",
    "c = Image.fromarray(b)\n",
    "c.show()\n",
    "plt.imshow(c)\n",
    "plt.show()"
   ]
  }
 ],
 "metadata": {
  "kernelspec": {
   "display_name": "Python 3",
   "language": "python",
   "name": "python3"
  },
  "language_info": {
   "codemirror_mode": {
    "name": "ipython",
    "version": 3
   },
   "file_extension": ".py",
   "mimetype": "text/x-python",
   "name": "python",
   "nbconvert_exporter": "python",
   "pygments_lexer": "ipython3",
   "version": "3.12.6"
  }
 },
 "nbformat": 4,
 "nbformat_minor": 5
}
