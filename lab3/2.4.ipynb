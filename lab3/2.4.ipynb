{
 "cells": [
  {
   "cell_type": "code",
   "execution_count": null,
   "metadata": {},
   "outputs": [],
   "source": [
    "!pip install opencv-python numpy matplotlib scipy"
   ]
  },
  {
   "cell_type": "code",
   "execution_count": null,
   "metadata": {},
   "outputs": [],
   "source": [
    "import cv2\n",
    "import numpy as np\n",
    "import matplotlib.pyplot as plt\n",
    "from scipy.fftpack import fft2, ifft2, fftshift, ifftshift\n",
    "import os\n",
    "import random\n",
    "\n",
    "input_dir = 'exercise'\n",
    "output_dir = 'output_fft_combined'\n",
    "\n",
    "if not os.path.exists(output_dir):\n",
    "    os.makedirs(output_dir)"
   ]
  },
  {
   "cell_type": "code",
   "execution_count": null,
   "metadata": {},
   "outputs": [],
   "source": [
    "def random_rgb_order(img):\n",
    "    channels = list(cv2.split(img))\n",
    "    random.shuffle(channels)\n",
    "    return cv2.merge(channels)\n",
    "\n",
    "def fast_fourier(img):\n",
    "    gray = cv2.cvtColor(img, cv2.COLOR_BGR2GRAY)\n",
    "    f = fft2(gray)\n",
    "    fshift = fftshift(f)\n",
    "    magnitude = 20 * np.log(np.abs(fshift) + 1)\n",
    "    return np.uint8(cv2.normalize(magnitude, None, 0, 255, cv2.NORM_MINMAX))\n",
    "\n",
    "def butterworth_filter(img, d0, n=2, highpass=False):\n",
    "    gray = cv2.cvtColor(img, cv2.COLOR_BGR2GRAY)\n",
    "    rows, cols = gray.shape\n",
    "    u = np.arange(rows)\n",
    "    v = np.arange(cols)\n",
    "    u[u > rows // 2] -= rows\n",
    "    v[v > cols // 2] -= cols\n",
    "    V, U = np.meshgrid(v, u)\n",
    "    D = np.sqrt(U**2 + V**2)\n",
    "    if highpass:\n",
    "        H = 1 / (1 + (d0 / (D + 1e-5))**(2 * n))\n",
    "    else:\n",
    "        H = 1 / (1 + (D / d0)**(2 * n))\n",
    "    F = fftshift(fft2(gray))\n",
    "    G = H * F\n",
    "    g = np.abs(ifft2(ifftshift(G)))\n",
    "    return np.uint8(cv2.normalize(g, None, 0, 255, cv2.NORM_MINMAX))\n",
    "\n",
    "def butterworth_lowpass(img):\n",
    "    return butterworth_filter(img, d0=50, n=2, highpass=False)\n",
    "\n",
    "def butterworth_highpass(img):\n",
    "    return butterworth_filter(img, d0=50, n=2, highpass=True)\n",
    "\n",
    "def min_filter(img):\n",
    "    return cv2.erode(img, np.ones((3, 3), np.uint8))\n",
    "\n",
    "def max_filter(img):\n",
    "    return cv2.dilate(img, np.ones((3, 3), np.uint8))"
   ]
  },
  {
   "cell_type": "code",
   "execution_count": null,
   "metadata": {},
   "outputs": [],
   "source": [
    "transformations = {\n",
    "    'F': ('Fast Fourier Transform', fast_fourier),\n",
    "    'L': ('Butterworth Lowpass + Min Filter', lambda img: min_filter(butterworth_lowpass(img))),\n",
    "    'H': ('Butterworth Highpass + Max Filter', lambda img: max_filter(butterworth_highpass(img)))\n",
    "}\n",
    "\n",
    "for filename in os.listdir(input_dir):\n",
    "    if filename.lower().endswith(('.jpg', '.png', '.jpeg', '.bmp')):\n",
    "        path = os.path.join(input_dir, filename)\n",
    "        img = cv2.imread(path)\n",
    "\n",
    "        shuffled = random_rgb_order(img)\n",
    "\n",
    "        code = random.choice(list(transformations.keys()))\n",
    "        name, transform_fn = transformations[code]\n",
    "        print(f\"\u0110ang x\u1eed l\u00fd {filename} v\u1edbi: {name}\")\n",
    "\n",
    "        result = transform_fn(shuffled)\n",
    "        out_path = os.path.join(output_dir, f\"{os.path.splitext(filename)[0]}_{code}.png\")\n",
    "        cv2.imwrite(out_path, result)\n",
    "\n",
    "        plt.figure(figsize=(10, 4))\n",
    "        plt.subplot(1, 2, 1)\n",
    "        plt.imshow(cv2.cvtColor(shuffled, cv2.COLOR_BGR2RGB))\n",
    "        plt.title(\"RGB Shuffled\")\n",
    "        plt.axis(\"off\")\n",
    "\n",
    "        plt.subplot(1, 2, 2)\n",
    "        plt.imshow(result, cmap='gray')\n",
    "        plt.title(name)\n",
    "        plt.axis(\"off\")\n",
    "        plt.show()\n",
    "\n",
    "print(f\"\u2705 Ho\u00e0n t\u1ea5t. \u1ea2nh \u0111\u00e3 l\u01b0u t\u1ea1i: {output_dir}\")"
   ]
  }
 ],
 "metadata": {
  "kernelspec": {
   "display_name": "Python 3",
   "language": "python",
   "name": "python3"
  },
  "language_info": {
   "name": "python",
   "version": "3.9"
  }
 },
 "nbformat": 4,
 "nbformat_minor": 2
}