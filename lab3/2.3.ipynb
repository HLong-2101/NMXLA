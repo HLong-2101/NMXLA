{
 "cells": [
  {
   "cell_type": "code",
   "execution_count": null,
   "metadata": {},
   "outputs": [],
   "source": [
    "!pip install opencv-python numpy matplotlib"
   ]
  },
  {
   "cell_type": "code",
   "execution_count": null,
   "metadata": {},
   "outputs": [],
   "source": [
    "import cv2\n",
    "import numpy as np\n",
    "import matplotlib.pyplot as plt\n",
    "import os\n",
    "import random\n",
    "\n",
    "input_dir = 'exercise'\n",
    "output_dir = 'output_random_transform'\n",
    "\n",
    "if not os.path.exists(output_dir):\n",
    "    os.makedirs(output_dir)"
   ]
  },
  {
   "cell_type": "code",
   "execution_count": null,
   "metadata": {},
   "outputs": [],
   "source": [
    "def inverse_image(img):\n",
    "    return 255 - img\n",
    "\n",
    "def gamma_correction(img, gamma=2.2):\n",
    "    norm = img / 255.0\n",
    "    corrected = np.power(norm, gamma)\n",
    "    return np.uint8(corrected * 255)\n",
    "\n",
    "def log_transform(img):\n",
    "    img_float = img.astype(np.float32)\n",
    "    log_image = np.log1p(img_float)\n",
    "    log_image = cv2.normalize(log_image, None, 0, 255, cv2.NORM_MINMAX)\n",
    "    return np.uint8(log_image)\n",
    "\n",
    "def histogram_equalization(img):\n",
    "    if len(img.shape) == 2:\n",
    "        return cv2.equalizeHist(img)\n",
    "    else:\n",
    "        ycrcb = cv2.cvtColor(img, cv2.COLOR_BGR2YCrCb)\n",
    "        ycrcb[:, :, 0] = cv2.equalizeHist(ycrcb[:, :, 0])\n",
    "        return cv2.cvtColor(ycrcb, cv2.COLOR_YCrCb2BGR)\n",
    "\n",
    "def contrast_stretching(img):\n",
    "    in_min = np.min(img)\n",
    "    in_max = np.max(img)\n",
    "    stretched = (img - in_min) * (255 / (in_max - in_min))\n",
    "    return np.uint8(stretched)\n",
    "\n",
    "def random_rgb_order(img):\n",
    "    channels = cv2.split(img)\n",
    "    random.shuffle(channels)\n",
    "    return cv2.merge(channels)"
   ]
  },
  {
   "cell_type": "code",
   "execution_count": null,
   "metadata": {},
   "outputs": [],
   "source": [
    "transformations = {\n",
    "    'I': ('Inverse', inverse_image),\n",
    "    'G': ('Gamma Correction', gamma_correction),\n",
    "    'L': ('Log Transform', log_transform),\n",
    "    'H': ('Histogram Equalization', histogram_equalization),\n",
    "    'C': ('Contrast Stretching', contrast_stretching)\n",
    "}\n",
    "\n",
    "for filename in os.listdir(input_dir):\n",
    "    if filename.lower().endswith(('.jpg', '.png', '.jpeg', '.bmp')):\n",
    "        path = os.path.join(input_dir, filename)\n",
    "        img = cv2.imread(path)\n",
    "\n",
    "        rgb_img = random_rgb_order(img)\n",
    "\n",
    "        code = random.choice(list(transformations.keys()))\n",
    "        name, transform_fn = transformations[code]\n",
    "        print(f\"\u0110ang x\u1eed l\u00fd {filename} v\u1edbi ph\u00e9p bi\u1ebfn \u0111\u1ed5i: {name}\")\n",
    "\n",
    "        result = transform_fn(rgb_img)\n",
    "\n",
    "        out_path = os.path.join(output_dir, f\"{os.path.splitext(filename)[0]}_{code}.png\")\n",
    "        cv2.imwrite(out_path, result)\n",
    "\n",
    "        plt.figure(figsize=(10, 4))\n",
    "        plt.subplot(1, 2, 1)\n",
    "        plt.imshow(cv2.cvtColor(rgb_img, cv2.COLOR_BGR2RGB))\n",
    "        plt.title(\"RGB Shuffled\")\n",
    "        plt.axis(\"off\")\n",
    "\n",
    "        plt.subplot(1, 2, 2)\n",
    "        cmap = 'gray' if len(result.shape) == 2 else None\n",
    "        plt.imshow(result, cmap=cmap)\n",
    "        plt.title(name)\n",
    "        plt.axis(\"off\")\n",
    "        plt.show()\n",
    "\n",
    "print(f\"\u2705 \u1ea2nh \u0111\u00e3 \u0111\u01b0\u1ee3c x\u1eed l\u00fd v\u00e0 l\u01b0u v\u00e0o th\u01b0 m\u1ee5c '{output_dir}'\")"
   ]
  }
 ],
 "metadata": {
  "kernelspec": {
   "display_name": "Python 3",
   "language": "python",
   "name": "python3"
  },
  "language_info": {
   "name": "python",
   "version": "3.9"
  }
 },
 "nbformat": 4,
 "nbformat_minor": 2
}