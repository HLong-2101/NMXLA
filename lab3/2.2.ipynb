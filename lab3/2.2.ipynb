{
 "cells": [
  {
   "cell_type": "code",
   "execution_count": null,
   "metadata": {},
   "outputs": [],
   "source": [
    "!pip install opencv-python matplotlib numpy scipy"
   ]
  },
  {
   "cell_type": "code",
   "execution_count": null,
   "metadata": {},
   "outputs": [],
   "source": [
    "import cv2\n",
    "import numpy as np\n",
    "import matplotlib.pyplot as plt\n",
    "from scipy.fftpack import fft2, ifft2, fftshift, ifftshift\n",
    "import os\n",
    "\n",
    "input_dir = 'exercise'\n",
    "output_dir = 'output_fft'\n",
    "\n",
    "if not os.path.exists(output_dir):\n",
    "    os.makedirs(output_dir)"
   ]
  },
  {
   "cell_type": "code",
   "execution_count": null,
   "metadata": {},
   "outputs": [],
   "source": [
    "def fast_fourier(img):\n",
    "    gray = cv2.cvtColor(img, cv2.COLOR_BGR2GRAY)\n",
    "    f = fft2(gray)\n",
    "    fshift = fftshift(f)\n",
    "    magnitude = 20 * np.log(np.abs(fshift) + 1)\n",
    "    return np.uint8(cv2.normalize(magnitude, None, 0, 255, cv2.NORM_MINMAX))\n",
    "\n",
    "def butterworth_filter(img, d0, n=2, highpass=False):\n",
    "    gray = cv2.cvtColor(img, cv2.COLOR_BGR2GRAY)\n",
    "    rows, cols = gray.shape\n",
    "    u = np.arange(rows)\n",
    "    v = np.arange(cols)\n",
    "    u[u > rows // 2] -= rows\n",
    "    v[v > cols // 2] -= cols\n",
    "    V, U = np.meshgrid(v, u)\n",
    "    D = np.sqrt(U**2 + V**2)\n",
    "\n",
    "    if highpass:\n",
    "        H = 1 / (1 + (d0 / (D + 1e-5))**(2 * n))\n",
    "    else:\n",
    "        H = 1 / (1 + (D / d0)**(2 * n))\n",
    "\n",
    "    F = fftshift(fft2(gray))\n",
    "    G = H * F\n",
    "    g = np.abs(ifft2(ifftshift(G)))\n",
    "    return np.uint8(cv2.normalize(g, None, 0, 255, cv2.NORM_MINMAX))\n",
    "\n",
    "def butterworth_lowpass(img):\n",
    "    return butterworth_filter(img, d0=50, n=2, highpass=False)\n",
    "\n",
    "def butterworth_highpass(img):\n",
    "    return butterworth_filter(img, d0=50, n=2, highpass=True)"
   ]
  },
  {
   "cell_type": "code",
   "execution_count": null,
   "metadata": {},
   "outputs": [],
   "source": [
    "transformations = {\n",
    "    'F': ('Fast Fourier Transform', fast_fourier),\n",
    "    'L': ('Butterworth Lowpass Filter', butterworth_lowpass),\n",
    "    'H': ('Butterworth Highpass Filter', butterworth_highpass)\n",
    "}\n",
    "\n",
    "print(\"=== Frequency Domain Transformations ===\")\n",
    "for key, (name, _) in transformations.items():\n",
    "    print(f\"{key} - {name}\")\n",
    "\n",
    "choice = input(\"Nh\u1eadp l\u1ef1a ch\u1ecdn c\u1ee7a b\u1ea1n (F/L/H): \").upper()\n",
    "\n",
    "if choice not in transformations:\n",
    "    print(\"L\u1ef1a ch\u1ecdn kh\u00f4ng h\u1ee3p l\u1ec7.\")\n",
    "else:\n",
    "    name, transform_fn = transformations[choice]\n",
    "    print(f\"\u0110ang \u00e1p d\u1ee5ng: {name}\")\n",
    "\n",
    "    for filename in os.listdir(input_dir):\n",
    "        if filename.lower().endswith(('.jpg', '.png', '.jpeg', '.bmp')):\n",
    "            path = os.path.join(input_dir, filename)\n",
    "            img = cv2.imread(path)\n",
    "\n",
    "            result = transform_fn(img)\n",
    "            out_path = os.path.join(output_dir, f\"{os.path.splitext(filename)[0]}_{choice}.png\")\n",
    "            cv2.imwrite(out_path, result)\n",
    "\n",
    "            plt.figure(figsize=(10, 4))\n",
    "            plt.subplot(1, 2, 1)\n",
    "            plt.imshow(cv2.cvtColor(img, cv2.COLOR_BGR2RGB))\n",
    "            plt.title(\"Original\")\n",
    "            plt.axis(\"off\")\n",
    "\n",
    "            plt.subplot(1, 2, 2)\n",
    "            plt.imshow(result, cmap='gray')\n",
    "            plt.title(name)\n",
    "            plt.axis(\"off\")\n",
    "            plt.show()\n",
    "\n",
    "    print(f\"\u2705 \u1ea2nh \u0111\u00e3 l\u01b0u t\u1ea1i: '{output_dir}'\")"
   ]
  }
 ],
 "metadata": {
  "kernelspec": {
   "display_name": "Python 3",
   "language": "python",
   "name": "python3"
  },
  "language_info": {
   "name": "python",
   "version": "3.9"
  }
 },
 "nbformat": 4,
 "nbformat_minor": 2
}