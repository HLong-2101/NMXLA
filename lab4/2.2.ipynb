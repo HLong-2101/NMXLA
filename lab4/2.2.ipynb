{
 "cells": [
  {
   "cell_type": "code",
   "execution_count": 15,
   "id": "1b76737d",
   "metadata": {},
   "outputs": [],
   "source": [
    "import cv2\n",
    "import numpy as np\n",
    "import matplotlib.pyplot as plt\n",
    "import os\n",
    "\n",
    "# Đọc ảnh đu đủ và dưa hấu\n",
    "papaya = cv2.imread('dudu.jpg')\n",
    "watermelon = cv2.imread('duahau.jpg')\n"
   ]
  },
  {
   "cell_type": "code",
   "execution_count": 16,
   "id": "22d0f153",
   "metadata": {},
   "outputs": [],
   "source": [
    "def refined_alpha_mask(img):\n",
    "    hsv = cv2.cvtColor(img, cv2.COLOR_BGR2HSV)\n",
    "    lower_white = np.array([0, 0, 180])\n",
    "    upper_white = np.array([180, 40, 255])\n",
    "    mask = cv2.inRange(hsv, lower_white, upper_white)\n",
    "    alpha = cv2.bitwise_not(mask)\n",
    "    b, g, r = cv2.split(img)\n",
    "    return cv2.merge([b, g, r, alpha])\n",
    "\n",
    "papaya_rgba = refined_alpha_mask(papaya)\n",
    "watermelon_rgba = refined_alpha_mask(watermelon)\n"
   ]
  },
  {
   "cell_type": "code",
   "execution_count": 18,
   "id": "2aa1a03e",
   "metadata": {},
   "outputs": [],
   "source": [
    "def apply_gradient_mask(img, start_color, end_color):\n",
    "    h, w = img.shape[:2]\n",
    "    mask = np.linspace(0, 1, w).reshape(1, w, 1)\n",
    "    mask = np.repeat(mask, h, axis=0)\n",
    "    gradient = (start_color * (1 - mask) + end_color * mask).astype(np.uint8)\n",
    "    alpha = img[:, :, 3]\n",
    "    result = cv2.bitwise_and(gradient, gradient, mask=alpha)\n",
    "    b, g, r = cv2.split(result)\n",
    "    return cv2.merge([b, g, r, alpha])\n"
   ]
  },
  {
   "cell_type": "code",
   "execution_count": 19,
   "id": "d5e4ae61",
   "metadata": {},
   "outputs": [],
   "source": [
    "papaya_gradient = apply_gradient_mask(papaya_rgba, np.array([0, 0, 255]), np.array([0, 255, 0]))\n",
    "watermelon_gradient = apply_gradient_mask(watermelon_rgba, np.array([0, 255, 255]), np.array([128, 0, 128]))\n"
   ]
  },
  {
   "cell_type": "code",
   "execution_count": 23,
   "id": "041cbdeb",
   "metadata": {},
   "outputs": [
    {
     "data": {
      "image/png": "[encoded data removed]",
      "text/plain": [
       "<Figure size 640x480 with 1 Axes>"
      ]
     },
     "metadata": {},
     "output_type": "display_data"
    }
   ],
   "source": [
    "h = max(papaya_gradient.shape[0], watermelon_gradient.shape[0])\n",
    "w = papaya_gradient.shape[1] + watermelon_gradient.shape[1]\n",
    "canvas = np.zeros((h, w, 4), dtype=np.uint8)\n",
    "\n",
    "canvas[:papaya_gradient.shape[0], :papaya_gradient.shape[1]] = papaya_gradient\n",
    "canvas[:watermelon_gradient.shape[0], papaya_gradient.shape[1]:] = watermelon_gradient\n",
    "\n",
    "cv2.imwrite('papaya_watermelon_gradient_clean.png', canvas)\n",
    "\n",
    "plt.imshow(cv2.cvtColor(canvas, cv2.COLOR_BGRA2RGBA))\n",
    "plt.axis('off')\n",
    "plt.title(\"Papaya + Watermelon with Gradient\")\n",
    "plt.show()\n"
   ]
  }
 ],
 "metadata": {
  "kernelspec": {
   "display_name": "Python 3",
   "language": "python",
   "name": "python3"
  },
  "language_info": {
   "codemirror_mode": {
    "name": "ipython",
    "version": 3
   },
   "file_extension": ".py",
   "mimetype": "text/x-python",
   "name": "python",
   "nbconvert_exporter": "python",
   "pygments_lexer": "ipython3",
   "version": "3.12.6"
  }
 },
 "nbformat": 4,
 "nbformat_minor": 5
}
